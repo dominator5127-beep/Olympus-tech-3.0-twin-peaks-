{
  "nbformat": 4,
  "nbformat_minor": 0,
  "metadata": {
    "colab": {
      "provenance": []
    },
    "kernelspec": {
      "name": "python3",
      "display_name": "Python 3"
    },
    "language_info": {
      "name": "python"
    }
  },
  "cells": [
    {
      "cell_type": "code",
      "execution_count": null,
      "metadata": {
        "id": "fszy6Xt7A1WG"
      },
      "outputs": [],
      "source": [
        "import pandas as pd\n",
        "df = pd.read_csv(\"train.csv\", on_bad_lines='skip', low_memory=False)\n"
      ]
    },
    {
      "cell_type": "code",
      "source": [
        "df = df.sort_values(by=\"PassengerId\").reset_index(drop=True)\n"
      ],
      "metadata": {
        "id": "Kjm_DqEyD22J"
      },
      "execution_count": null,
      "outputs": []
    },
    {
      "cell_type": "code",
      "source": [
        "categorical_cols = ['HomePlanet', 'CryoSleep', 'Cabin', 'Destination', 'VIP', 'Name']\n",
        "numeric_cols = ['Age', 'RoomService', 'FoodCourt', 'ShoppingMall', 'Spa', 'VRDeck']\n",
        "\n",
        "# Fill categorical with mode\n",
        "for col in categorical_cols:\n",
        "    if df[col].isna().sum() > 0:\n",
        "        df[col] = df[col].fillna(df[col].mode()[0])\n",
        "\n",
        "# Fill numeric with median\n",
        "for col in numeric_cols:\n",
        "    if df[col].isna().sum() > 0:\n",
        "        df[col] = df[col].fillna(df[col].median())\n"
      ],
      "metadata": {
        "colab": {
          "base_uri": "https://localhost:8080/"
        },
        "id": "zjf4HBgBD-jg",
        "outputId": "43e50fe5-68c1-4f04-f9c3-3aaebdb07c54"
      },
      "execution_count": null,
      "outputs": [
        {
          "output_type": "stream",
          "name": "stderr",
          "text": [
            "/tmp/ipython-input-856159209.py:7: FutureWarning: Downcasting object dtype arrays on .fillna, .ffill, .bfill is deprecated and will change in a future version. Call result.infer_objects(copy=False) instead. To opt-in to the future behavior, set `pd.set_option('future.no_silent_downcasting', True)`\n",
            "  df[col] = df[col].fillna(df[col].mode()[0])\n"
          ]
        }
      ]
    },
    {
      "cell_type": "code",
      "source": [
        "print(\"Remaining missing values:\\n\", df.isna().sum())\n"
      ],
      "metadata": {
        "colab": {
          "base_uri": "https://localhost:8080/"
        },
        "id": "4jNftKnVECt0",
        "outputId": "4b2b9294-c031-412b-b839-de600de4ad5e"
      },
      "execution_count": null,
      "outputs": [
        {
          "output_type": "stream",
          "name": "stdout",
          "text": [
            "Remaining missing values:\n",
            " PassengerId     0\n",
            "HomePlanet      0\n",
            "CryoSleep       0\n",
            "Cabin           0\n",
            "Destination     0\n",
            "Age             0\n",
            "VIP             0\n",
            "RoomService     0\n",
            "FoodCourt       0\n",
            "ShoppingMall    0\n",
            "Spa             0\n",
            "VRDeck          0\n",
            "Name            0\n",
            "Transported     0\n",
            "dtype: int64\n"
          ]
        }
      ]
    },
    {
      "cell_type": "code",
      "source": [
        "df.to_csv(\"train_restored.csv\", index=False)\n"
      ],
      "metadata": {
        "id": "UKDrfDHMEJnU"
      },
      "execution_count": null,
      "outputs": []
    }
  ]
}